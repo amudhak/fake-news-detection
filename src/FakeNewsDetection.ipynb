{
 "cells": [
  {
   "cell_type": "markdown",
   "id": "bc0ec5d6",
   "metadata": {},
   "source": [
    "# Fake News Detection"
   ]
  },
  {
   "cell_type": "markdown",
   "id": "53050499",
   "metadata": {},
   "source": [
    "### Import and Install Dependencies"
   ]
  },
  {
   "cell_type": "code",
   "execution_count": null,
   "id": "73b232c1",
   "metadata": {},
   "outputs": [],
   "source": [
    "import tensorflow as tf\n",
    "import numpy as np\n",
    "import pandas as pd\n",
    "import os"
   ]
  },
  {
   "cell_type": "markdown",
   "id": "66197f85",
   "metadata": {},
   "source": [
    "### View and Preprocess Data"
   ]
  },
  {
   "cell_type": "code",
   "execution_count": 87,
   "id": "0e0ff1c1",
   "metadata": {
    "scrolled": false
   },
   "outputs": [],
   "source": [
    "# Read csv file as a dataframe with pandas\n",
    "data = pd.read_csv('./fake-news/train.csv',header=None)\n",
    "data = data.astype(str)"
   ]
  },
  {
   "cell_type": "code",
   "execution_count": 88,
   "id": "ab22f6a4",
   "metadata": {
    "scrolled": false
   },
   "outputs": [],
   "source": [
    "# Preview data\n",
    "data.head()"
   ]
  },
  {
   "cell_type": "code",
   "execution_count": 84,
   "id": "54ba6b86",
   "metadata": {},
   "outputs": [],
   "source": [
    "# Clean up data (if required)\n",
    "data = data.drop_duplicates() # Remove duplicates\n",
    "data = data.dropna() # Remove any rows with missing values"
   ]
  },
  {
   "cell_type": "code",
   "execution_count": 92,
   "id": "3081573f",
   "metadata": {},
   "outputs": [
    {
     "data": {
      "text/plain": [
       "(20801, 5)"
      ]
     },
     "execution_count": 92,
     "metadata": {},
     "output_type": "execute_result"
    }
   ],
   "source": [
    "data.shape"
   ]
  },
  {
   "cell_type": "code",
   "execution_count": null,
   "id": "38b9768c",
   "metadata": {},
   "outputs": [],
   "source": [
    "# Convert data to numpy array\n",
    "data_array = np.array(data)"
   ]
  },
  {
   "cell_type": "code",
   "execution_count": null,
   "id": "b638c29b",
   "metadata": {},
   "outputs": [],
   "source": [
    "# Remove the id column and header row\n",
    "# features => title, author, text\n",
    "x = data_array[:,[1,2,3]]\n",
    "X_train = np.delete(x, (0), axis=0)"
   ]
  },
  {
   "cell_type": "code",
   "execution_count": null,
   "id": "d740dffd",
   "metadata": {},
   "outputs": [],
   "source": [
    "y_train = data_array[:,[4]]"
   ]
  },
  {
   "cell_type": "code",
   "execution_count": null,
   "id": "0c492255",
   "metadata": {},
   "outputs": [],
   "source": [
    "X_train[:1]"
   ]
  },
  {
   "cell_type": "code",
   "execution_count": null,
   "id": "7f1b3510",
   "metadata": {},
   "outputs": [],
   "source": [
    "tokenizer = Tokenizer()"
   ]
  },
  {
   "cell_type": "code",
   "execution_count": null,
   "id": "3917bdfd",
   "metadata": {},
   "outputs": [],
   "source": [
    "# creates a dictionary containing all the words in the input text\n",
    "sequences = np.array([])\n",
    "for a in X_train:\n",
    "    tokenizer.fit_on_texts(a)\n",
    "    # returns arrays of indices into the dictionary\n",
    "    s = tokenizer.texts_to_sequences(a)\n",
    "    np.append(sequences, s)"
   ]
  },
  {
   "cell_type": "code",
   "execution_count": null,
   "id": "3292f6f8",
   "metadata": {},
   "outputs": [],
   "source": [
    "X_train.shape"
   ]
  },
  {
   "cell_type": "code",
   "execution_count": null,
   "id": "cad773ea",
   "metadata": {},
   "outputs": [],
   "source": [
    "y_train.shape"
   ]
  },
  {
   "cell_type": "markdown",
   "id": "6d16120b",
   "metadata": {},
   "source": [
    "### Build and Train Neural Network"
   ]
  },
  {
   "cell_type": "code",
   "execution_count": null,
   "id": "cee60895",
   "metadata": {},
   "outputs": [],
   "source": [
    "from tensorflow.keras.models import Sequential\n",
    "from tensorflow.keras.layers import Dense\n",
    "from tensorflow.keras.callbacks import TensorBoard"
   ]
  },
  {
   "cell_type": "code",
   "execution_count": null,
   "id": "cb24fe8c",
   "metadata": {},
   "outputs": [],
   "source": [
    "log_dir = os.path.join('Logs')\n",
    "tb_callback = TensorBoard(log_dir=log_dir)"
   ]
  },
  {
   "cell_type": "markdown",
   "id": "686fe729",
   "metadata": {},
   "source": [
    "#### Some notes on the Neural Network Architecture\n",
    "- the input layer => shape of training data, number of features\n",
    "- the hidden layer => as a rule of thumb, the number of neurons is the mean of the input and output layer\n",
    "- the output layer => either 0 or 1 (reliable and unreliable respectively)\n",
    "\n",
    "- one hidden layer is sufficient for most problems, after that at most 2 or 3 total (but improvement is not that significant)\n",
    "- if linearly seperable data, there's no need for any hidden layers or even an NN (for that matter)"
   ]
  },
  {
   "cell_type": "code",
   "execution_count": null,
   "id": "62d2f0ea",
   "metadata": {},
   "outputs": [],
   "source": [
    "model = Sequential()\n",
    "model.add(Dense(units=3, activation='relu'))\n",
    "model.add(Dense(units=2, activation='relu'))\n",
    "model.add(Dense(units=1, activation='softmax'))"
   ]
  },
  {
   "cell_type": "code",
   "execution_count": null,
   "id": "019dec2f",
   "metadata": {},
   "outputs": [],
   "source": [
    "model.compile(optimizer='Adam', loss='binary_crossentropy')"
   ]
  },
  {
   "cell_type": "code",
   "execution_count": null,
   "id": "915d0d21",
   "metadata": {},
   "outputs": [],
   "source": [
    "model.fit(X_train, y_train, epochs=2000, callbacks=[tb_callback])"
   ]
  },
  {
   "cell_type": "code",
   "execution_count": null,
   "id": "c62f9259",
   "metadata": {},
   "outputs": [],
   "source": [
    "model.summary()"
   ]
  },
  {
   "cell_type": "code",
   "execution_count": null,
   "id": "a7f0e95f",
   "metadata": {},
   "outputs": [],
   "source": []
  }
 ],
 "metadata": {
  "kernelspec": {
   "display_name": "Python 3 (ipykernel)",
   "language": "python",
   "name": "python3"
  },
  "language_info": {
   "codemirror_mode": {
    "name": "ipython",
    "version": 3
   },
   "file_extension": ".py",
   "mimetype": "text/x-python",
   "name": "python",
   "nbconvert_exporter": "python",
   "pygments_lexer": "ipython3",
   "version": "3.10.9"
  }
 },
 "nbformat": 4,
 "nbformat_minor": 5
}
