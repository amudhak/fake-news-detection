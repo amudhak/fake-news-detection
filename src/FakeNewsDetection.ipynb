{
 "cells": [
  {
   "cell_type": "markdown",
   "id": "bc0ec5d6",
   "metadata": {},
   "source": [
    "# Fake News Detection"
   ]
  },
  {
   "cell_type": "markdown",
   "id": "8850d3d6-1f31-418b-937e-3fa488ddff72",
   "metadata": {},
   "source": [
    "We're going to train a model to be able to detect fake news based on their headlines and content.\n",
    "\n",
    "Inspiration and help taken from: https://www.geeksforgeeks.org/fake-news-detection-using-machine-learning/"
   ]
  },
  {
   "cell_type": "markdown",
   "id": "53050499",
   "metadata": {},
   "source": [
    "### Import and Install Dependencies"
   ]
  },
  {
   "cell_type": "code",
   "execution_count": 22,
   "id": "73b232c1",
   "metadata": {},
   "outputs": [
    {
     "name": "stderr",
     "output_type": "stream",
     "text": [
      "[nltk_data] Downloading package stopwords to\n",
      "[nltk_data]     /Users/amudha/nltk_data...\n",
      "[nltk_data]   Package stopwords is already up-to-date!\n",
      "[nltk_data] Downloading package punkt to /Users/amudha/nltk_data...\n",
      "[nltk_data]   Package punkt is already up-to-date!\n",
      "[nltk_data] Downloading package wordnet to /Users/amudha/nltk_data...\n",
      "[nltk_data]   Package wordnet is already up-to-date!\n"
     ]
    }
   ],
   "source": [
    "import pandas as pd\n",
    "import numpy as np\n",
    "import re\n",
    "import seaborn as sns\n",
    "import matplotlib.pyplot as plt\n",
    "from tqdm import tqdm\n",
    "\n",
    "import nltk\n",
    "from nltk.tokenize import word_tokenize\n",
    "from nltk.corpus import stopwords\n",
    "from nltk.corpus import words\n",
    "from nltk.stem.porter import PorterStemmer\n",
    "from nltk.stem import WordNetLemmatizer\n",
    "nltk.download('stopwords')\n",
    "nltk.download('punkt')\n",
    "nltk.download('wordnet')\n",
    "\n",
    "from sklearn.feature_extraction.text import CountVectorizer\n",
    "from sklearn.feature_extraction.text import TfidfVectorizer\n",
    "from sklearn.model_selection import train_test_split, cross_val_score, StratifiedKFold\n",
    "from sklearn.metrics import accuracy_score\n",
    "\n",
    "from sklearn.linear_model import LogisticRegression\n",
    "from sklearn.metrics import accuracy_score, precision_score, recall_score, f1_score\n",
    "from sklearn import metrics"
   ]
  },
  {
   "cell_type": "markdown",
   "id": "66197f85",
   "metadata": {},
   "source": [
    "### View and Preprocess Data"
   ]
  },
  {
   "cell_type": "code",
   "execution_count": 2,
   "id": "0e0ff1c1",
   "metadata": {},
   "outputs": [
    {
     "data": {
      "text/html": [
       "<div>\n",
       "<style scoped>\n",
       "    .dataframe tbody tr th:only-of-type {\n",
       "        vertical-align: middle;\n",
       "    }\n",
       "\n",
       "    .dataframe tbody tr th {\n",
       "        vertical-align: top;\n",
       "    }\n",
       "\n",
       "    .dataframe thead th {\n",
       "        text-align: right;\n",
       "    }\n",
       "</style>\n",
       "<table border=\"1\" class=\"dataframe\">\n",
       "  <thead>\n",
       "    <tr style=\"text-align: right;\">\n",
       "      <th></th>\n",
       "      <th>0</th>\n",
       "      <th>1</th>\n",
       "      <th>2</th>\n",
       "      <th>3</th>\n",
       "      <th>4</th>\n",
       "    </tr>\n",
       "  </thead>\n",
       "  <tbody>\n",
       "    <tr>\n",
       "      <th>0</th>\n",
       "      <td>id</td>\n",
       "      <td>title</td>\n",
       "      <td>author</td>\n",
       "      <td>text</td>\n",
       "      <td>label</td>\n",
       "    </tr>\n",
       "    <tr>\n",
       "      <th>1</th>\n",
       "      <td>0</td>\n",
       "      <td>House Dem Aide: We Didn’t Even See Comey’s Let...</td>\n",
       "      <td>Darrell Lucus</td>\n",
       "      <td>House Dem Aide: We Didn’t Even See Comey’s Let...</td>\n",
       "      <td>1</td>\n",
       "    </tr>\n",
       "    <tr>\n",
       "      <th>2</th>\n",
       "      <td>1</td>\n",
       "      <td>FLYNN: Hillary Clinton, Big Woman on Campus - ...</td>\n",
       "      <td>Daniel J. Flynn</td>\n",
       "      <td>Ever get the feeling your life circles the rou...</td>\n",
       "      <td>0</td>\n",
       "    </tr>\n",
       "    <tr>\n",
       "      <th>3</th>\n",
       "      <td>2</td>\n",
       "      <td>Why the Truth Might Get You Fired</td>\n",
       "      <td>Consortiumnews.com</td>\n",
       "      <td>Why the Truth Might Get You Fired October 29, ...</td>\n",
       "      <td>1</td>\n",
       "    </tr>\n",
       "    <tr>\n",
       "      <th>4</th>\n",
       "      <td>3</td>\n",
       "      <td>15 Civilians Killed In Single US Airstrike Hav...</td>\n",
       "      <td>Jessica Purkiss</td>\n",
       "      <td>Videos 15 Civilians Killed In Single US Airstr...</td>\n",
       "      <td>1</td>\n",
       "    </tr>\n",
       "    <tr>\n",
       "      <th>...</th>\n",
       "      <td>...</td>\n",
       "      <td>...</td>\n",
       "      <td>...</td>\n",
       "      <td>...</td>\n",
       "      <td>...</td>\n",
       "    </tr>\n",
       "    <tr>\n",
       "      <th>20796</th>\n",
       "      <td>20795</td>\n",
       "      <td>Rapper T.I.: Trump a ’Poster Child For White S...</td>\n",
       "      <td>Jerome Hudson</td>\n",
       "      <td>Rapper T. I. unloaded on black celebrities who...</td>\n",
       "      <td>0</td>\n",
       "    </tr>\n",
       "    <tr>\n",
       "      <th>20797</th>\n",
       "      <td>20796</td>\n",
       "      <td>N.F.L. Playoffs: Schedule, Matchups and Odds -...</td>\n",
       "      <td>Benjamin Hoffman</td>\n",
       "      <td>When the Green Bay Packers lost to the Washing...</td>\n",
       "      <td>0</td>\n",
       "    </tr>\n",
       "    <tr>\n",
       "      <th>20798</th>\n",
       "      <td>20797</td>\n",
       "      <td>Macy’s Is Said to Receive Takeover Approach by...</td>\n",
       "      <td>Michael J. de la Merced and Rachel Abrams</td>\n",
       "      <td>The Macy’s of today grew from the union of sev...</td>\n",
       "      <td>0</td>\n",
       "    </tr>\n",
       "    <tr>\n",
       "      <th>20799</th>\n",
       "      <td>20798</td>\n",
       "      <td>NATO, Russia To Hold Parallel Exercises In Bal...</td>\n",
       "      <td>Alex Ansary</td>\n",
       "      <td>NATO, Russia To Hold Parallel Exercises In Bal...</td>\n",
       "      <td>1</td>\n",
       "    </tr>\n",
       "    <tr>\n",
       "      <th>20800</th>\n",
       "      <td>20799</td>\n",
       "      <td>What Keeps the F-35 Alive</td>\n",
       "      <td>David Swanson</td>\n",
       "      <td>David Swanson is an author, activist, journa...</td>\n",
       "      <td>1</td>\n",
       "    </tr>\n",
       "  </tbody>\n",
       "</table>\n",
       "<p>20801 rows × 5 columns</p>\n",
       "</div>"
      ],
      "text/plain": [
       "           0                                                  1  \\\n",
       "0         id                                              title   \n",
       "1          0  House Dem Aide: We Didn’t Even See Comey’s Let...   \n",
       "2          1  FLYNN: Hillary Clinton, Big Woman on Campus - ...   \n",
       "3          2                  Why the Truth Might Get You Fired   \n",
       "4          3  15 Civilians Killed In Single US Airstrike Hav...   \n",
       "...      ...                                                ...   \n",
       "20796  20795  Rapper T.I.: Trump a ’Poster Child For White S...   \n",
       "20797  20796  N.F.L. Playoffs: Schedule, Matchups and Odds -...   \n",
       "20798  20797  Macy’s Is Said to Receive Takeover Approach by...   \n",
       "20799  20798  NATO, Russia To Hold Parallel Exercises In Bal...   \n",
       "20800  20799                          What Keeps the F-35 Alive   \n",
       "\n",
       "                                               2  \\\n",
       "0                                         author   \n",
       "1                                  Darrell Lucus   \n",
       "2                                Daniel J. Flynn   \n",
       "3                             Consortiumnews.com   \n",
       "4                                Jessica Purkiss   \n",
       "...                                          ...   \n",
       "20796                              Jerome Hudson   \n",
       "20797                           Benjamin Hoffman   \n",
       "20798  Michael J. de la Merced and Rachel Abrams   \n",
       "20799                                Alex Ansary   \n",
       "20800                              David Swanson   \n",
       "\n",
       "                                                       3      4  \n",
       "0                                                   text  label  \n",
       "1      House Dem Aide: We Didn’t Even See Comey’s Let...      1  \n",
       "2      Ever get the feeling your life circles the rou...      0  \n",
       "3      Why the Truth Might Get You Fired October 29, ...      1  \n",
       "4      Videos 15 Civilians Killed In Single US Airstr...      1  \n",
       "...                                                  ...    ...  \n",
       "20796  Rapper T. I. unloaded on black celebrities who...      0  \n",
       "20797  When the Green Bay Packers lost to the Washing...      0  \n",
       "20798  The Macy’s of today grew from the union of sev...      0  \n",
       "20799  NATO, Russia To Hold Parallel Exercises In Bal...      1  \n",
       "20800    David Swanson is an author, activist, journa...      1  \n",
       "\n",
       "[20801 rows x 5 columns]"
      ]
     },
     "execution_count": 2,
     "metadata": {},
     "output_type": "execute_result"
    }
   ],
   "source": [
    "# Read csv file as a dataframe with pandas\n",
    "df = pd.read_csv('./fake-news/train.csv',header=None)\n",
    "df"
   ]
  },
  {
   "cell_type": "code",
   "execution_count": 3,
   "id": "54ba6b86",
   "metadata": {},
   "outputs": [
    {
     "data": {
      "text/html": [
       "<div>\n",
       "<style scoped>\n",
       "    .dataframe tbody tr th:only-of-type {\n",
       "        vertical-align: middle;\n",
       "    }\n",
       "\n",
       "    .dataframe tbody tr th {\n",
       "        vertical-align: top;\n",
       "    }\n",
       "\n",
       "    .dataframe thead th {\n",
       "        text-align: right;\n",
       "    }\n",
       "</style>\n",
       "<table border=\"1\" class=\"dataframe\">\n",
       "  <thead>\n",
       "    <tr style=\"text-align: right;\">\n",
       "      <th></th>\n",
       "      <th>text</th>\n",
       "      <th>label</th>\n",
       "    </tr>\n",
       "  </thead>\n",
       "  <tbody>\n",
       "    <tr>\n",
       "      <th>1</th>\n",
       "      <td>House Dem Aide: We Didn’t Even See Comey’s Let...</td>\n",
       "      <td>1</td>\n",
       "    </tr>\n",
       "    <tr>\n",
       "      <th>2</th>\n",
       "      <td>Ever get the feeling your life circles the rou...</td>\n",
       "      <td>0</td>\n",
       "    </tr>\n",
       "    <tr>\n",
       "      <th>3</th>\n",
       "      <td>Why the Truth Might Get You Fired October 29, ...</td>\n",
       "      <td>1</td>\n",
       "    </tr>\n",
       "    <tr>\n",
       "      <th>4</th>\n",
       "      <td>Videos 15 Civilians Killed In Single US Airstr...</td>\n",
       "      <td>1</td>\n",
       "    </tr>\n",
       "    <tr>\n",
       "      <th>5</th>\n",
       "      <td>Print \\nAn Iranian woman has been sentenced to...</td>\n",
       "      <td>1</td>\n",
       "    </tr>\n",
       "    <tr>\n",
       "      <th>...</th>\n",
       "      <td>...</td>\n",
       "      <td>...</td>\n",
       "    </tr>\n",
       "    <tr>\n",
       "      <th>20796</th>\n",
       "      <td>Rapper T. I. unloaded on black celebrities who...</td>\n",
       "      <td>0</td>\n",
       "    </tr>\n",
       "    <tr>\n",
       "      <th>20797</th>\n",
       "      <td>When the Green Bay Packers lost to the Washing...</td>\n",
       "      <td>0</td>\n",
       "    </tr>\n",
       "    <tr>\n",
       "      <th>20798</th>\n",
       "      <td>The Macy’s of today grew from the union of sev...</td>\n",
       "      <td>0</td>\n",
       "    </tr>\n",
       "    <tr>\n",
       "      <th>20799</th>\n",
       "      <td>NATO, Russia To Hold Parallel Exercises In Bal...</td>\n",
       "      <td>1</td>\n",
       "    </tr>\n",
       "    <tr>\n",
       "      <th>20800</th>\n",
       "      <td>David Swanson is an author, activist, journa...</td>\n",
       "      <td>1</td>\n",
       "    </tr>\n",
       "  </tbody>\n",
       "</table>\n",
       "<p>20386 rows × 2 columns</p>\n",
       "</div>"
      ],
      "text/plain": [
       "                                                    text label\n",
       "1      House Dem Aide: We Didn’t Even See Comey’s Let...     1\n",
       "2      Ever get the feeling your life circles the rou...     0\n",
       "3      Why the Truth Might Get You Fired October 29, ...     1\n",
       "4      Videos 15 Civilians Killed In Single US Airstr...     1\n",
       "5      Print \\nAn Iranian woman has been sentenced to...     1\n",
       "...                                                  ...   ...\n",
       "20796  Rapper T. I. unloaded on black celebrities who...     0\n",
       "20797  When the Green Bay Packers lost to the Washing...     0\n",
       "20798  The Macy’s of today grew from the union of sev...     0\n",
       "20799  NATO, Russia To Hold Parallel Exercises In Bal...     1\n",
       "20800    David Swanson is an author, activist, journa...     1\n",
       "\n",
       "[20386 rows x 2 columns]"
      ]
     },
     "execution_count": 3,
     "metadata": {},
     "output_type": "execute_result"
    }
   ],
   "source": [
    "# Cleaning up the data\n",
    "df = df.drop(0)\n",
    "df.drop([0,1,2], axis=1, inplace=True)\n",
    "df.rename(columns={1: 'title', 3: 'text', 4: 'label'}, inplace=True)\n",
    "df.drop_duplicates(inplace=True)\n",
    "df.dropna(inplace=True)\n",
    "df"
   ]
  },
  {
   "cell_type": "markdown",
   "id": "c1477a7f-5285-47ca-83a1-786a9fd0b8df",
   "metadata": {},
   "source": [
    "### Visualizing the Data"
   ]
  },
  {
   "cell_type": "code",
   "execution_count": 4,
   "id": "6a644bbf-1a4c-44e6-a74d-a8d26d015cfe",
   "metadata": {},
   "outputs": [
    {
     "data": {
      "image/png": "[encoded data removed]",
      "text/plain": [
       "<Figure size 640x480 with 1 Axes>"
      ]
     },
     "metadata": {},
     "output_type": "display_data"
    }
   ],
   "source": [
    "# Count of the unique values in each category\n",
    "sns.countplot(data=df,\n",
    "              x='label',\n",
    "              order=df['label'].value_counts().index)\n",
    "plt.show()"
   ]
  },
  {
   "cell_type": "code",
   "execution_count": 5,
   "id": "3f2a7768-6ac4-453d-a2fc-a161c3e326de",
   "metadata": {},
   "outputs": [
    {
     "data": {
      "text/plain": [
       "1        House Dem Aide: We Didn’t Even See Comey’s Let...\n",
       "2        Ever get the feeling your life circles the rou...\n",
       "3        Why the Truth Might Get You Fired October 29, ...\n",
       "4        Videos 15 Civilians Killed In Single US Airstr...\n",
       "5        Print \\nAn Iranian woman has been sentenced to...\n",
       "                               ...                        \n",
       "20796    Rapper T. I. unloaded on black celebrities who...\n",
       "20797    When the Green Bay Packers lost to the Washing...\n",
       "20798    The Macy’s of today grew from the union of sev...\n",
       "20799    NATO, Russia To Hold Parallel Exercises In Bal...\n",
       "20800      David Swanson is an author, activist, journa...\n",
       "Name: text, Length: 20386, dtype: object"
      ]
     },
     "execution_count": 5,
     "metadata": {},
     "output_type": "execute_result"
    }
   ],
   "source": [
    "df['text']"
   ]
  },
  {
   "cell_type": "markdown",
   "id": "26d4ef48-2e7d-4be2-8ded-06e404bd9508",
   "metadata": {},
   "source": [
    "### Removing punctuation, Lowercasing, Alphanumerics, Stemming, and Lemmatization"
   ]
  },
  {
   "cell_type": "code",
   "execution_count": 6,
   "id": "741fa1c8-1968-41b7-9f13-00b4aa3e60a0",
   "metadata": {},
   "outputs": [
    {
     "name": "stderr",
     "output_type": "stream",
     "text": [
      "100%|████████████████████████████████████| 20386/20386 [03:00<00:00, 112.72it/s]\n"
     ]
    }
   ],
   "source": [
    "def preprocess_text(text_data):\n",
    "    stop_words = set(stopwords.words(\"english\"))\n",
    "    stemmer = PorterStemmer()\n",
    "    lemmatizer = WordNetLemmatizer()\n",
    "    preprocessed_text = []\n",
    "    for sentence in tqdm(text_data):\n",
    "        sentence = re.sub(r'[^\\w\\s]', '', sentence)\n",
    "        words = [word.lower() for word in sentence.split() if word.isalpha() and word.lower() not in stop_words]\n",
    "        words = [stemmer.stem(word) for word in words]\n",
    "        words = [lemmatizer.lemmatize(word) for word in words]\n",
    "        preprocessed_text.append(' '.join(words))\n",
    "    return preprocessed_text\n",
    "\n",
    "df['text'] = preprocess_text(df['text'].values)"
   ]
  },
  {
   "cell_type": "markdown",
   "id": "d6f92614-877e-4b3a-a61b-3d8a79fb4187",
   "metadata": {},
   "source": [
    "### Visualizing the Data Pt. 2"
   ]
  },
  {
   "cell_type": "code",
   "execution_count": 7,
   "id": "a46bc04f",
   "metadata": {},
   "outputs": [
    {
     "data": {
      "image/png": "[encoded data removed]",
      "text/plain": [
       "<Figure size 1000x600 with 1 Axes>"
      ]
     },
     "metadata": {},
     "output_type": "display_data"
    }
   ],
   "source": [
    "# Display the top 20 words found in our articles\n",
    "def get_top_n_words(corpus, n=None):\n",
    "    vec = CountVectorizer().fit(corpus)\n",
    "    bag_of_words = vec.transform(corpus)\n",
    "    sum_words = bag_of_words.sum(axis=0)\n",
    "    words_freq = [(word, sum_words[0, idx])\n",
    "                  for word, idx in vec.vocabulary_.items()]\n",
    "    words_freq = sorted(words_freq, key=lambda x: x[1],\n",
    "                        reverse=True)\n",
    "    return words_freq[:n]\n",
    "\n",
    "common_words = get_top_n_words(df['text'], 20)\n",
    "df1 = pd.DataFrame(common_words, columns=['Review', 'count'])\n",
    "\n",
    "df1.groupby('Review').sum()['count'].sort_values(ascending=False).plot(\n",
    "    kind='bar',\n",
    "    figsize=(10, 6),\n",
    "    xlabel=\"Top Words\",\n",
    "    ylabel=\"Count\",\n",
    "    title=\"Bar Chart of Top Words Frequency\"\n",
    ")\n",
    "plt.show()"
   ]
  },
  {
   "cell_type": "markdown",
   "id": "0bbe545a-2a37-484b-81da-aae54bd7a653",
   "metadata": {},
   "source": [
    "It's interesting to note that as a result of our preprocessing, many of the words have been modified, perhaps in ways that may not be entirely beneficial to us. For example, looking at the top 20 words, ones like \"peopl\" and \"presid\" were presumably \"people\" and \"president\" but now their meanings have been altered. In the case of a word like \"president\" now that it has been reduced to \"presid\" the model might assume it to be the same as words such as \"preside\" and \"presidium\" which in reality have entirely different meanings in the English language."
   ]
  },
  {
   "cell_type": "markdown",
   "id": "6d41dda4-2656-4a8b-ba5c-09b2aff6711c",
   "metadata": {},
   "source": [
    "### Machine Learning"
   ]
  },
  {
   "cell_type": "code",
   "execution_count": 10,
   "id": "3292f6f8",
   "metadata": {},
   "outputs": [],
   "source": [
    "X_train, X_test, y_train, y_test = train_test_split(df['text'], df['label'], test_size=0.20, random_state=42)"
   ]
  },
  {
   "cell_type": "code",
   "execution_count": 11,
   "id": "1bd1ee24-f051-40a8-9999-9fd3485fb6c1",
   "metadata": {},
   "outputs": [],
   "source": [
    "# Since we are dealing with words, they must be vectorized in order for the model to be fitted to the data\n",
    "vectorizer = TfidfVectorizer(stop_words='english')\n",
    "X_train_tfidf = vectorizer.fit_transform(X_train)\n",
    "X_test_tfidf = vectorizer.transform(X_test)"
   ]
  },
  {
   "cell_type": "markdown",
   "id": "dd43c159-3466-4b8e-a38c-5f2bd5c10245",
   "metadata": {},
   "source": [
    "We will now use logistic regression to make our predictions. This is especially helpful for binary classification tasks, such as this one, since it outputs probability values between 0 and 1. This makes it ideal for predicting whether an article spreads fake news or not."
   ]
  },
  {
   "cell_type": "code",
   "execution_count": 19,
   "id": "95cc672a-b0a5-4aa6-aed1-6c75484f504f",
   "metadata": {},
   "outputs": [
    {
     "name": "stdout",
     "output_type": "stream",
     "text": [
      "Accuracy: 0.9364884747425208\n",
      "Precision: 0.9348791317217563\n",
      "Recall: 0.9371909000989119\n",
      "F1-Score: 0.9360335885403803\n"
     ]
    }
   ],
   "source": [
    "model = LogisticRegression()\n",
    "model.fit(X_train_tfidf, y_train)\n",
    "y_pred = model.predict(X_test_tfidf)\n",
    "\n",
    "accuracy = accuracy_score(y_test, y_pred)\n",
    "precision = precision_score(y_test, y_pred, pos_label='1')\n",
    "recall = recall_score(y_test, y_pred, pos_label='1')\n",
    "f1 = f1_score(y_test, y_pred, pos_label='1')\n",
    "\n",
    "print(\"Accuracy:\", accuracy)\n",
    "print(\"Precision:\", precision)\n",
    "print(\"Recall:\", recall)\n",
    "print(\"F1-Score:\", f1)"
   ]
  },
  {
   "cell_type": "markdown",
   "id": "16cb1110-7898-47a7-86a2-22bfc531b8f9",
   "metadata": {},
   "source": [
    "Accuracy: How the model does overall, the proportion of classifications that were correct over all classifications\n",
    "\n",
    "Precision: Proportion of all of the model's positive classifications that were actually positive\n",
    "\n",
    "Recall: Also known as the true positive rate, the proportion of correctly classified actual positives over all actual positives\n",
    "\n",
    "F1-Score: Provides a balanced measure of the model's precision and recall (average rate of change, or harmonic mean)"
   ]
  },
  {
   "cell_type": "markdown",
   "id": "36a546cc-f283-417b-a881-b81d47352478",
   "metadata": {},
   "source": [
    "### Analyzing Model Accuracy"
   ]
  },
  {
   "cell_type": "code",
   "execution_count": 23,
   "id": "8b221eb4-ae42-46ce-a13f-fc00de63b9e8",
   "metadata": {},
   "outputs": [
    {
     "data": {
      "image/png": "[encoded data removed]",
      "text/plain": [
       "<Figure size 640x480 with 2 Axes>"
      ]
     },
     "metadata": {},
     "output_type": "display_data"
    }
   ],
   "source": [
    "cm = metrics.confusion_matrix(y_test, model.predict(X_test_tfidf))\n",
    "cm_display = metrics.ConfusionMatrixDisplay(confusion_matrix=cm, display_labels=[True, False])\n",
    "cm_display.plot()\n",
    "plt.show()"
   ]
  },
  {
   "cell_type": "markdown",
   "id": "bf1286bf-4b65-433d-9895-6595e451776f",
   "metadata": {},
   "source": [
    "For future analyses, the model can be improved to make further accurate predictions. It missed 127 articles that were fake, and mistakenly labeled 132 articles as fake when in reality they were true. However, as we see above given the large dataset, it is still able to correctly determine if a piece of news is fake with great accuracy. "
   ]
  }
 ],
 "metadata": {
  "kernelspec": {
   "display_name": "Python 3 (ipykernel)",
   "language": "python",
   "name": "python3"
  },
  "language_info": {
   "codemirror_mode": {
    "name": "ipython",
    "version": 3
   },
   "file_extension": ".py",
   "mimetype": "text/x-python",
   "name": "python",
   "nbconvert_exporter": "python",
   "pygments_lexer": "ipython3",
   "version": "3.10.9"
  }
 },
 "nbformat": 4,
 "nbformat_minor": 5
}
